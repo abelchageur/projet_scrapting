{
 "cells": [
  {
   "cell_type": "code",
   "execution_count": 2,
   "id": "bf486128-6337-4d0d-b115-39c9daf4adba",
   "metadata": {},
   "outputs": [],
   "source": [
    "from selenium import webdriver\n",
    "from selenium.webdriver.common.by import By\n",
    "from selenium.common.exceptions import NoSuchElementException  \n",
    "import numpy as np\n",
    "import pandas as pd\n",
    "import time"
   ]
  },
  {
   "cell_type": "code",
   "execution_count": 3,
   "id": "95e49bc4-9a2d-47d2-964d-971bcac43c01",
   "metadata": {},
   "outputs": [],
   "source": [
    "browser = webdriver.Chrome()\n",
    "browser.get(\"https://avito.ma\")"
   ]
  },
  {
   "cell_type": "code",
   "execution_count": 4,
   "id": "932f03c1-5f14-4b7c-b129-ee62bd52dc9c",
   "metadata": {},
   "outputs": [],
   "source": [
    "recherche = browser.find_element(By.XPATH,'/html/body/div[1]/div[2]/div[5]/div[1]/div/div/form/div/input')\n",
    "recherche.send_keys(\"appartement\")\n",
    "time.sleep(0.2)\n",
    "\n",
    "confirmer = browser.find_element(By.XPATH,'/html/body/div[1]/div[2]/div[5]/div[1]/div/button[3]')\n",
    "confirmer.click()\n",
    "time.sleep(0.2)"
   ]
  },
  {
   "cell_type": "code",
   "execution_count": 5,
   "id": "35083964-cb3b-4202-a3ff-fb6d88f6d960",
   "metadata": {},
   "outputs": [],
   "source": [
    "def get_element_text(xpath):\n",
    "    try:\n",
    "        element = browser.find_element(By.XPATH, xpath)\n",
    "        return element.text\n",
    "    except NoSuchElementException:\n",
    "        return \"NaN\""
   ]
  },
  {
   "cell_type": "code",
   "execution_count": 6,
   "id": "41f35ce3-1683-4c67-95f4-f640f353d699",
   "metadata": {},
   "outputs": [],
   "source": [
    "appart_list = [] \n",
    "for n in range(2,4):\n",
    "\n",
    "    apartment_links = []\n",
    "    link_elements = browser.find_elements(By.CSS_SELECTOR, '.sc-1nre5ec-1.crKvIr.listing a')  \n",
    "    for link_element in link_elements:\n",
    "        href = link_element.get_attribute('href')\n",
    "        if href:\n",
    "            apartment_links.append(href)\n",
    "\n",
    "    for link in apartment_links:\n",
    "        browser.get(link)  \n",
    "        appart_dict = {\n",
    "            \"titre_appart\": get_element_text('//*[@id=\"__next\"]/div/main/div/div[3]/div[1]/div[2]/div[1]/div[1]/div[2]/div[1]/div[1]/div[1]/h1'),\n",
    "            \"localisation\": get_element_text('//*[@id=\"__next\"]/div/main/div/div[3]/div[1]/div[2]/div[1]/div[1]/div[2]/div[1]/div[2]/span[1]'),\n",
    "            \"prix\": get_element_text('//*[@id=\"__next\"]/div/main/div/div[3]/div[1]/div[2]/div[1]/div[1]/div[2]/div[1]/div[1]/div[2]/p'),\n",
    "            \"nombre_chambre\": get_element_text('//*[@id=\"__next\"]/div/main/div/div[3]/div[1]/div[2]/div[1]/div[1]/div[2]/div[4]/div[1]/div[1]/div/span'),\n",
    "            \"nombre_douches\": get_element_text('//*[@id=\"__next\"]/div/main/div/div[3]/div[1]/div[2]/div[1]/div[1]/div[2]/div[4]/div[1]/div[2]/div/span'),\n",
    "            \"Surface_habitable\": get_element_text('//*[@id=\"__next\"]/div/main/div/div[3]/div[1]/div[2]/div[1]/div[1]/div[2]/div[4]/div[2]/ol/li[4]/span[2]'),\n",
    "            \"Type\": get_element_text('//*[@id=\"__next\"]/div/main/div/div[3]/div[1]/div[2]/div[1]/div[1]/div[2]/div[4]/div[2]/ol/li[1]/span[2]'),\n",
    "            \"Secteur\": get_element_text('//*[@id=\"__next\"]/div/main/div/div[3]/div[1]/div[2]/div[1]/div[1]/div[2]/div[4]/div[2]/ol/li[2]/span[2]'),\n",
    "            \"Salons\": get_element_text('//*[@id=\"__next\"]/div/main/div/div[3]/div[1]/div[2]/div[1]/div[1]/div[2]/div[4]/div[2]/ol/li[3]/span[2]'),\n",
    "            \"Étage\": get_element_text('//*[@id=\"__next\"]/div/main/div/div[3]/div[1]/div[2]/div[1]/div[1]/div[2]/div[4]/div[2]/ol/li[6]/span[2]'),\n",
    "            \"Âge_du_bien\": get_element_text('//*[@id=\"__next\"]/div/main/div/div[3]/div[1]/div[2]/div[1]/div[1]/div[2]/div[4]/div[2]/ol/li[5]/span[2]')\n",
    "        }\n",
    "        appart_list.append(appart_dict)\n",
    "        time.sleep(0.2)\n",
    "    browser.get(f\"https://www.avito.ma/fr/maroc/appartements/appartement--%C3%A0_vendre?o={n}\") \n",
    "    time.sleep(0.2)"
   ]
  },
  {
   "cell_type": "code",
   "execution_count": 8,
   "id": "781c2d73-2e36-42cf-a6cf-6f147644ece0",
   "metadata": {},
   "outputs": [
    {
     "data": {
      "text/html": [
       "<div>\n",
       "<style scoped>\n",
       "    .dataframe tbody tr th:only-of-type {\n",
       "        vertical-align: middle;\n",
       "    }\n",
       "\n",
       "    .dataframe tbody tr th {\n",
       "        vertical-align: top;\n",
       "    }\n",
       "\n",
       "    .dataframe thead th {\n",
       "        text-align: right;\n",
       "    }\n",
       "</style>\n",
       "<table border=\"1\" class=\"dataframe\">\n",
       "  <thead>\n",
       "    <tr style=\"text-align: right;\">\n",
       "      <th></th>\n",
       "      <th>titre_appart</th>\n",
       "      <th>localisation</th>\n",
       "      <th>prix</th>\n",
       "      <th>nombre_chambre</th>\n",
       "      <th>nombre_douches</th>\n",
       "      <th>Surface_habitable</th>\n",
       "      <th>Type</th>\n",
       "      <th>Secteur</th>\n",
       "      <th>Salons</th>\n",
       "      <th>Étage</th>\n",
       "      <th>Âge_du_bien</th>\n",
       "    </tr>\n",
       "  </thead>\n",
       "  <tbody>\n",
       "    <tr>\n",
       "      <th>0</th>\n",
       "      <td>Appartement a vendre</td>\n",
       "      <td>Casablanca</td>\n",
       "      <td>713 800 DH</td>\n",
       "      <td>NaN</td>\n",
       "      <td>NaN</td>\n",
       "      <td>NaN</td>\n",
       "      <td>NaN</td>\n",
       "      <td>NaN</td>\n",
       "      <td>NaN</td>\n",
       "      <td>NaN</td>\n",
       "      <td>NaN</td>\n",
       "    </tr>\n",
       "    <tr>\n",
       "      <th>1</th>\n",
       "      <td>très joli appart à vendre à oasis</td>\n",
       "      <td>Casablanca</td>\n",
       "      <td>1 950 000 DH</td>\n",
       "      <td>2</td>\n",
       "      <td>2</td>\n",
       "      <td>91</td>\n",
       "      <td>Appartements, à vendre</td>\n",
       "      <td>Route d'El Jadida</td>\n",
       "      <td>1</td>\n",
       "      <td>3</td>\n",
       "      <td>1-5 ans</td>\n",
       "    </tr>\n",
       "    <tr>\n",
       "      <th>2</th>\n",
       "      <td>Appartement Magnifique</td>\n",
       "      <td>Essaouira</td>\n",
       "      <td>300 DH /Nuit</td>\n",
       "      <td>NaN</td>\n",
       "      <td>NaN</td>\n",
       "      <td>NaN</td>\n",
       "      <td>NaN</td>\n",
       "      <td>NaN</td>\n",
       "      <td>NaN</td>\n",
       "      <td>NaN</td>\n",
       "      <td>NaN</td>\n",
       "    </tr>\n",
       "    <tr>\n",
       "      <th>3</th>\n",
       "      <td>Appartement à louer 80 m² à Casablanca</td>\n",
       "      <td>Casablanca</td>\n",
       "      <td>4 300 DH</td>\n",
       "      <td>NaN</td>\n",
       "      <td>NaN</td>\n",
       "      <td>NaN</td>\n",
       "      <td>NaN</td>\n",
       "      <td>NaN</td>\n",
       "      <td>NaN</td>\n",
       "      <td>NaN</td>\n",
       "      <td>NaN</td>\n",
       "    </tr>\n",
       "    <tr>\n",
       "      <th>4</th>\n",
       "      <td>GUELIZ DERRIÈRE LE CARRÉ EDEN</td>\n",
       "      <td>Marrakech</td>\n",
       "      <td>1 840 000 DH</td>\n",
       "      <td>3</td>\n",
       "      <td>1</td>\n",
       "      <td>202</td>\n",
       "      <td>Appartements, à vendre</td>\n",
       "      <td>Guéliz</td>\n",
       "      <td>2</td>\n",
       "      <td>Rez de chaussée</td>\n",
       "      <td>21+ ans</td>\n",
       "    </tr>\n",
       "  </tbody>\n",
       "</table>\n",
       "</div>"
      ],
      "text/plain": [
       "                             titre_appart localisation          prix  \\\n",
       "0                    Appartement a vendre   Casablanca    713 800 DH   \n",
       "1       très joli appart à vendre à oasis   Casablanca  1 950 000 DH   \n",
       "2                  Appartement Magnifique    Essaouira  300 DH /Nuit   \n",
       "3  Appartement à louer 80 m² à Casablanca   Casablanca      4 300 DH   \n",
       "4           GUELIZ DERRIÈRE LE CARRÉ EDEN    Marrakech  1 840 000 DH   \n",
       "\n",
       "  nombre_chambre nombre_douches Surface_habitable                    Type  \\\n",
       "0            NaN            NaN               NaN                     NaN   \n",
       "1              2              2                91  Appartements, à vendre   \n",
       "2            NaN            NaN               NaN                     NaN   \n",
       "3            NaN            NaN               NaN                     NaN   \n",
       "4              3              1               202  Appartements, à vendre   \n",
       "\n",
       "             Secteur Salons            Étage Âge_du_bien  \n",
       "0                NaN    NaN              NaN         NaN  \n",
       "1  Route d'El Jadida      1                3     1-5 ans  \n",
       "2                NaN    NaN              NaN         NaN  \n",
       "3                NaN    NaN              NaN         NaN  \n",
       "4             Guéliz      2  Rez de chaussée     21+ ans  "
      ]
     },
     "execution_count": 8,
     "metadata": {},
     "output_type": "execute_result"
    }
   ],
   "source": [
    "df = pd.DataFrame(appart_list)\n",
    "df.head()"
   ]
  },
  {
   "cell_type": "code",
   "execution_count": 14,
   "id": "63b47ffe-4888-4417-bf9c-8729fda34e52",
   "metadata": {},
   "outputs": [
    {
     "name": "stdout",
     "output_type": "stream",
     "text": [
      "Data saved to appartements.csv\n"
     ]
    }
   ],
   "source": [
    "df.to_csv('appartements.csv', index=False)\n",
    "print(\"Data saved to appartements.csv\")\n",
    "browser.quit()"
   ]
  },
  {
   "cell_type": "code",
   "execution_count": null,
   "id": "f9e9db66-e6b8-4d0f-b555-8cd2e96617fe",
   "metadata": {},
   "outputs": [],
   "source": []
  },
  {
   "cell_type": "code",
   "execution_count": null,
   "id": "52b6b068-499e-4df2-92cb-7ba7b2b9e655",
   "metadata": {},
   "outputs": [],
   "source": []
  }
 ],
 "metadata": {
  "kernelspec": {
   "display_name": "Python 3 (ipykernel)",
   "language": "python",
   "name": "python3"
  },
  "language_info": {
   "codemirror_mode": {
    "name": "ipython",
    "version": 3
   },
   "file_extension": ".py",
   "mimetype": "text/x-python",
   "name": "python",
   "nbconvert_exporter": "python",
   "pygments_lexer": "ipython3",
   "version": "3.13.0"
  }
 },
 "nbformat": 4,
 "nbformat_minor": 5
}
